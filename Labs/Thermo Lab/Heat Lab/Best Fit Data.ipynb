{
 "cells": [
  {
   "cell_type": "markdown",
   "id": "0b624cdd-5c9f-4b34-bfc9-2e289e51ee15",
   "metadata": {},
   "source": [
    "### Find best fit\n",
    "\n",
    "- look at distances of points from line\n",
    "- want least distances from best fit line\n",
    "\n",
    "x^2=sum((y-y(x))/alpha)^2)\n",
    "\n",
    "find values of m and c that minimize the residual (from y(x)= mx+c\n",
    "\n"
   ]
  },
  {
   "cell_type": "code",
   "execution_count": 1,
   "id": "3b8bb9fc-c20e-4c44-80fa-54cb07208c88",
   "metadata": {},
   "outputs": [],
   "source": [
    "import numpy as np\n",
    "import matplotlib.pyplot as plt\n",
    "import math\n",
    "import scipy.stats as st\n",
    "from scipy.optimize import curve_fit\n",
    "\n",
    "\n",
    "# import x values for mass here \n",
    "x = np.array([12.8, 14.7, 17.6, 30.2, 35.3, 41.9, 52.2, 58.5, 59.4, 66.7])\n",
    "\n",
    "# import time values here\n",
    "y = np.array([90, 105, 114, 150, 165, 186, 222, 234, 240, 258])\n",
    "\n",
    "\n",
    "n_data = len(x) # length of data array"
   ]
  }
 ],
 "metadata": {
  "kernelspec": {
   "display_name": "Python 3 (ipykernel)",
   "language": "python",
   "name": "python3"
  },
  "language_info": {
   "codemirror_mode": {
    "name": "ipython",
    "version": 3
   },
   "file_extension": ".py",
   "mimetype": "text/x-python",
   "name": "python",
   "nbconvert_exporter": "python",
   "pygments_lexer": "ipython3",
   "version": "3.10.12"
  }
 },
 "nbformat": 4,
 "nbformat_minor": 5
}
