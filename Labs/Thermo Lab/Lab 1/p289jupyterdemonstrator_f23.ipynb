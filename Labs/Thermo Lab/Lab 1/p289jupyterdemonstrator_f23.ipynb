{
 "cells": [
  {
   "cell_type": "code",
   "execution_count": 3,
   "metadata": {},
   "outputs": [],
   "source": [
    "# numpy is a a standard python library that contains many helpful functions for doing basic mathematical operaions. \n",
    "# For more information, check the documentation at https://numpy.org/doc/stable/\n",
    "import numpy as np\n",
    "import random\n",
    "import matplotlib.pyplot as plt\n",
    "import math\n",
    "import scipy.stats as st\n",
    "import pandas as pd "
   ]
  },
  {
   "cell_type": "markdown",
   "metadata": {},
   "source": [
    "### Analysis of a Single Dice Throw\n",
    "\n",
    "***A function to throw a 6-sided dice***"
   ]
  },
  {
   "cell_type": "code",
   "execution_count": 4,
   "metadata": {},
   "outputs": [
    {
     "name": "stdout",
     "output_type": "stream",
     "text": [
      "6\n"
     ]
    }
   ],
   "source": [
    "# We define a function which simulates rolling a die by returning a random integer between 1 and 6\n",
    "def diceroll():\n",
    "    return random.randint(1,6)\n",
    "\n",
    "# Here, we print the result of a single call to this function\n",
    "print(diceroll())"
   ]
  },
  {
   "cell_type": "markdown",
   "metadata": {},
   "source": [
    "***Throw dice a number of times***"
   ]
  },
  {
   "cell_type": "code",
   "execution_count": 5,
   "metadata": {},
   "outputs": [],
   "source": [
    "# ntrials is the number of dice rolls\n",
    "ntrials = 900\n",
    "# we now load ntrials number of dice rolls into a list named trials\n",
    "trials = []\n",
    "for i in range(ntrials):\n",
    "    trials.append( diceroll() )"
   ]
  },
  {
   "cell_type": "markdown",
   "metadata": {},
   "source": [
    "***Plot the trials as a histogram (number of entries = ntrials)***"
   ]
  },
  {
   "cell_type": "code",
   "execution_count": 6,
   "metadata": {},
   "outputs": [
    {
     "data": {
      "image/png": "[encoded data removed]",
      "text/plain": [
       "<Figure size 640x480 with 1 Axes>"
      ]
     },
     "metadata": {},
     "output_type": "display_data"
    }
   ],
   "source": [
    "# now we plot trials in just 6 x-axis bins (one for each roll value) and look at the shape of the distribution\n",
    "plt.hist(trials, bins=6, range=(1,7))\n",
    "plt.show()"
   ]
  },
  {
   "cell_type": "markdown",
   "metadata": {},
   "source": [
    "***As a check, print all the trials***"
   ]
  },
  {
   "cell_type": "code",
   "execution_count": 7,
   "metadata": {},
   "outputs": [
    {
     "name": "stdout",
     "output_type": "stream",
     "text": [
      "[4, 4, 5, 3, 4, 2, 6, 2, 1, 5, 3, 6, 6, 4, 4, 5, 3, 6, 4, 4, 3, 5, 3, 6, 1, 3, 4, 2, 1, 1, 6, 3, 6, 2, 4, 3, 5, 6, 1, 2, 3, 1, 2, 4, 3, 6, 1, 5, 6, 2, 3, 4, 6, 2, 3, 2, 2, 1, 5, 2, 1, 3, 1, 2, 1, 6, 5, 3, 6, 3, 5, 4, 4, 3, 1, 3, 1, 5, 5, 4, 5, 2, 6, 2, 6, 4, 6, 3, 1, 1, 5, 2, 5, 5, 6, 1, 4, 3, 2, 6, 3, 6, 2, 5, 5, 3, 6, 5, 5, 2, 4, 5, 3, 6, 5, 1, 6, 5, 5, 4, 5, 3, 3, 3, 6, 4, 2, 1, 1, 3, 6, 6, 6, 4, 6, 4, 1, 2, 2, 1, 3, 1, 1, 2, 2, 5, 1, 2, 2, 6, 2, 2, 2, 5, 3, 4, 1, 1, 5, 6, 1, 3, 6, 4, 6, 6, 5, 6, 4, 2, 2, 4, 4, 4, 4, 1, 4, 5, 5, 4, 3, 2, 5, 6, 4, 5, 1, 5, 3, 6, 4, 2, 5, 1, 2, 1, 5, 4, 5, 5, 6, 5, 6, 2, 5, 3, 4, 2, 4, 1, 1, 2, 1, 6, 5, 2, 6, 5, 3, 5, 2, 2, 2, 5, 2, 5, 2, 6, 3, 4, 6, 4, 1, 3, 2, 1, 2, 4, 1, 5, 4, 6, 1, 2, 4, 3, 1, 5, 1, 1, 4, 1, 1, 3, 1, 4, 1, 1, 6, 5, 6, 4, 1, 5, 1, 6, 3, 6, 2, 5, 4, 5, 3, 1, 1, 6, 1, 1, 4, 6, 1, 4, 4, 4, 1, 6, 6, 4, 2, 4, 1, 1, 4, 6, 4, 3, 1, 4, 5, 6, 5, 1, 2, 4, 1, 6, 2, 5, 1, 1, 1, 5, 1, 2, 4, 1, 2, 6, 4, 1, 6, 5, 2, 1, 1, 6, 6, 2, 1, 4, 1, 1, 2, 1, 3, 5, 4, 2, 5, 4, 1, 2, 6, 3, 2, 4, 3, 3, 4, 2, 4, 2, 4, 2, 3, 1, 5, 6, 3, 3, 1, 3, 2, 2, 1, 5, 5, 5, 3, 6, 3, 4, 5, 3, 1, 3, 6, 4, 1, 3, 1, 4, 4, 1, 1, 5, 2, 5, 5, 1, 5, 6, 3, 4, 1, 3, 3, 2, 3, 1, 4, 6, 3, 5, 3, 2, 1, 1, 2, 3, 2, 5, 2, 2, 2, 2, 3, 1, 2, 4, 6, 5, 6, 1, 5, 6, 6, 5, 3, 4, 6, 3, 2, 5, 1, 2, 2, 1, 4, 6, 3, 3, 6, 3, 5, 4, 5, 6, 1, 3, 6, 4, 5, 1, 4, 4, 3, 3, 5, 5, 6, 5, 6, 2, 2, 2, 1, 1, 6, 3, 1, 3, 4, 6, 4, 6, 2, 1, 3, 4, 5, 4, 6, 6, 5, 6, 3, 2, 5, 4, 5, 5, 3, 1, 5, 1, 5, 5, 3, 4, 3, 5, 1, 2, 6, 6, 1, 6, 5, 5, 4, 5, 4, 3, 4, 3, 1, 2, 1, 3, 1, 4, 4, 2, 6, 6, 4, 4, 4, 3, 5, 1, 5, 5, 5, 4, 5, 3, 2, 2, 3, 2, 6, 1, 2, 4, 6, 1, 6, 1, 2, 1, 1, 4, 6, 1, 5, 1, 6, 4, 3, 5, 5, 1, 2, 3, 2, 3, 1, 2, 6, 4, 5, 3, 3, 3, 1, 4, 6, 3, 2, 1, 2, 1, 5, 4, 2, 6, 6, 2, 2, 2, 1, 3, 5, 5, 5, 2, 1, 4, 1, 3, 1, 2, 5, 5, 2, 6, 4, 5, 5, 5, 2, 2, 3, 2, 1, 3, 4, 6, 1, 3, 6, 5, 3, 3, 1, 1, 3, 5, 1, 6, 1, 5, 4, 5, 3, 6, 4, 1, 2, 2, 2, 2, 5, 4, 6, 5, 1, 6, 6, 3, 4, 3, 6, 6, 3, 1, 3, 4, 6, 6, 6, 3, 4, 6, 6, 2, 3, 6, 3, 3, 5, 1, 1, 2, 3, 1, 5, 1, 3, 4, 6, 1, 1, 4, 6, 5, 5, 3, 5, 5, 3, 6, 3, 2, 1, 3, 5, 5, 4, 1, 1, 3, 2, 4, 6, 5, 3, 3, 2, 2, 1, 1, 5, 3, 2, 6, 6, 5, 4, 1, 1, 1, 1, 3, 6, 6, 2, 3, 3, 5, 6, 6, 2, 6, 2, 1, 1, 2, 5, 2, 6, 5, 5, 2, 4, 2, 5, 4, 5, 6, 1, 5, 6, 2, 6, 4, 3, 4, 6, 3, 4, 4, 6, 4, 4, 1, 4, 2, 4, 5, 4, 6, 3, 2, 4, 1, 4, 1, 4, 6, 4, 6, 2, 3, 2, 1, 3, 5, 5, 1, 3, 6, 1, 2, 6, 5, 3, 2, 2, 2, 1, 1, 1, 4, 3, 2, 3, 6, 1, 3, 3, 1, 5, 3, 1, 5, 1, 4, 5, 4, 6, 2, 2, 6, 1, 3, 2, 5, 1, 3, 3, 3, 4, 5, 2, 4, 4, 4, 3, 1, 5, 5, 1, 3, 4, 2, 2, 6, 6, 1, 1, 4, 3, 4, 2, 3, 5, 5, 5, 1, 4, 3, 4, 6, 3, 3, 6, 3, 5, 6, 6, 5, 2, 6, 4, 6, 6, 5, 3, 4, 5, 2, 1, 6, 1, 5, 5, 2, 3, 5, 5, 3, 1, 1, 5, 5, 6, 3]\n"
     ]
    }
   ],
   "source": [
    "print(trials)"
   ]
  },
  {
   "cell_type": "markdown",
   "metadata": {},
   "source": [
    "**print the *average* of the trials, the *standard deviation*, the sum and the standard deviation calculated from first principles**"
   ]
  },
  {
   "cell_type": "code",
   "execution_count": 8,
   "metadata": {},
   "outputs": [
    {
     "name": "stdout",
     "output_type": "stream",
     "text": [
      "mean = 3.454\n",
      "std dev (built-in function) = 1.736\n",
      "sum = 3109\n",
      "std dev (calculated from deviations) = 1.737\n"
     ]
    }
   ],
   "source": [
    "histmean = np.mean(trials) # average\n",
    "print(f'mean = {histmean:.3f}')\n",
    "print(f'std dev (built-in function) = {np.std(trials):.3f}') # standard deviaion\n",
    "print('sum =', np.sum(trials)) # sum\n",
    "print(f'std dev (calculated from deviations) = {np.sqrt(np.sum((trials-histmean)**2)/(ntrials-1)):.3f}') # brute force standard devation calculation"
   ]
  },
  {
   "cell_type": "markdown",
   "metadata": {},
   "source": [
    "**What is the theoretical standard deviation? It can be easily derived:** $\\sigma = \\sqrt{35/12}$"
   ]
  },
  {
   "cell_type": "code",
   "execution_count": 9,
   "metadata": {},
   "outputs": [
    {
     "name": "stdout",
     "output_type": "stream",
     "text": [
      "expected std dev = 1.708\n"
     ]
    }
   ],
   "source": [
    "print(f'expected std dev = {np.sqrt(35/12):.3f}')"
   ]
  },
  {
   "cell_type": "markdown",
   "metadata": {},
   "source": [
    "### Analysis of a Multiple Dice Throw\n",
    "\n",
    "A function to throw multiple dice and return the average value"
   ]
  },
  {
   "cell_type": "code",
   "execution_count": 10,
   "metadata": {},
   "outputs": [],
   "source": [
    "# define a function that rolls dice \"ndice\" times and returns the mean value\n",
    "def ndicerollavg(ndice):\n",
    "    dicetot = 0\n",
    "    for i in range(ndice):\n",
    "        dicetot += random.randint(1,6)\n",
    "    return dicetot/ndice"
   ]
  },
  {
   "cell_type": "markdown",
   "metadata": {},
   "source": [
    "**Throw multiple dice a number of times**"
   ]
  },
  {
   "cell_type": "code",
   "execution_count": 11,
   "metadata": {},
   "outputs": [],
   "source": [
    "# load \"ntrials\" number of the average of \"ndice\"-dice rolls into \"ndicetrials\"\n",
    "ndicetrials = []\n",
    "ntrials = 1000\n",
    "ndice = 20\n",
    "for i in range(ntrials):\n",
    "    ndicetrials.append( ndicerollavg(ndice) )"
   ]
  },
  {
   "cell_type": "code",
   "execution_count": 12,
   "metadata": {},
   "outputs": [
    {
     "name": "stdout",
     "output_type": "stream",
     "text": [
      "[3.55, 3.9, 4.35, 3.85, 3.55, 4.15, 3.85, 3.0, 3.55, 3.9, 3.25, 3.95, 3.8, 3.65, 3.9, 3.4, 3.5, 3.05, 3.65, 2.7, 3.05, 3.45, 3.55, 3.6, 2.85, 3.5, 3.4, 3.45, 3.35, 3.75, 4.0, 3.55, 3.65, 4.15, 3.4, 4.05, 3.45, 3.8, 3.05, 4.0, 3.7, 2.6, 4.15, 3.55, 3.3, 3.8, 3.85, 3.65, 4.3, 3.7, 3.5, 2.8, 3.05, 3.35, 3.45, 3.9, 3.4, 3.5, 4.0, 3.65, 3.65, 3.8, 3.15, 4.1, 3.4, 4.0, 4.35, 3.55, 3.65, 3.85, 3.7, 3.7, 3.75, 4.25, 4.0, 3.45, 3.4, 3.65, 4.1, 3.15, 3.05, 3.85, 3.6, 3.05, 4.1, 3.25, 3.45, 3.05, 3.4, 3.65, 3.45, 3.5, 2.95, 3.85, 4.3, 4.5, 3.15, 3.4, 3.9, 4.0, 3.65, 3.3, 3.55, 3.8, 3.7, 3.75, 3.15, 3.45, 3.75, 3.6, 3.5, 3.2, 3.75, 3.1, 4.05, 3.35, 4.45, 3.5, 3.2, 3.95, 4.1, 3.7, 3.4, 3.45, 3.5, 3.45, 3.45, 4.05, 4.4, 4.0, 3.25, 3.55, 3.45, 3.9, 4.05, 3.95, 3.7, 2.75, 3.55, 3.65, 3.45, 3.45, 3.95, 3.65, 3.75, 3.25, 3.45, 3.55, 4.2, 3.15, 3.6, 4.25, 3.4, 3.4, 4.25, 3.35, 3.25, 3.05, 4.2, 3.3, 3.8, 3.35, 3.85, 4.05, 3.75, 3.25, 3.85, 3.1, 3.8, 3.15, 3.2, 2.95, 3.75, 3.85, 2.95, 3.25, 2.9, 2.8, 3.6, 3.05, 3.55, 3.3, 4.0, 3.1, 4.55, 3.7, 3.5, 3.25, 4.25, 3.6, 3.45, 3.65, 4.0, 3.95, 3.45, 3.65, 3.15, 3.35, 3.4, 3.0, 3.4, 3.6, 3.6, 3.8, 4.15, 3.7, 4.45, 3.25, 2.8, 2.85, 2.6, 3.5, 3.55, 3.75, 3.2, 3.4, 4.55, 3.65, 3.35, 3.6, 3.5, 2.8, 2.9, 3.85, 3.3, 3.7, 3.25, 3.1, 4.0, 3.6, 3.2, 3.3, 3.1, 3.4, 3.05, 4.4, 3.6, 3.1, 3.1, 3.55, 3.5, 3.75, 3.2, 3.4, 3.35, 3.55, 3.75, 3.9, 3.45, 3.85, 3.05, 3.15, 3.7, 3.75, 3.4, 3.55, 3.8, 3.6, 3.05, 3.5, 4.05, 3.0, 3.6, 4.3, 2.95, 3.25, 2.95, 3.45, 3.2, 3.6, 3.6, 3.05, 3.55, 3.25, 3.9, 4.0, 4.4, 3.4, 3.35, 3.25, 3.35, 4.1, 2.75, 3.1, 3.2, 3.5, 3.4, 3.45, 3.95, 3.7, 3.9, 3.6, 2.8, 3.85, 3.15, 3.65, 2.55, 3.25, 3.5, 3.7, 4.25, 4.05, 3.5, 3.7, 3.0, 3.3, 3.7, 3.7, 3.35, 3.5, 3.2, 3.5, 4.35, 3.6, 3.6, 3.4, 3.8, 3.25, 3.9, 3.7, 3.15, 3.75, 3.5, 3.75, 4.25, 2.85, 3.4, 3.85, 3.45, 3.05, 3.45, 3.15, 3.6, 3.55, 3.55, 3.5, 3.35, 3.35, 3.6, 3.25, 2.85, 3.9, 3.1, 3.05, 3.8, 3.45, 4.2, 3.2, 3.35, 4.45, 3.8, 3.7, 3.75, 3.85, 3.55, 3.9, 3.65, 4.15, 3.6, 2.75, 2.95, 3.8, 3.2, 3.5, 3.3, 3.0, 3.7, 3.6, 4.05, 4.05, 3.5, 3.5, 3.75, 4.3, 4.2, 3.9, 2.85, 3.7, 3.35, 3.55, 3.1, 3.3, 3.05, 3.25, 3.2, 3.55, 3.6, 2.95, 3.6, 3.25, 3.6, 3.7, 2.85, 3.35, 4.15, 3.65, 3.55, 3.7, 3.4, 3.2, 3.75, 3.7, 3.85, 3.7, 3.6, 3.5, 2.95, 3.65, 3.9, 3.7, 3.4, 3.05, 3.55, 3.7, 3.7, 3.5, 2.85, 3.25, 3.45, 3.65, 3.05, 3.25, 3.7, 3.65, 3.05, 3.6, 3.2, 3.95, 3.5, 3.35, 3.45, 2.65, 3.55, 3.2, 3.3, 4.0, 3.55, 3.85, 3.05, 4.2, 3.35, 3.35, 3.7, 3.8, 3.6, 3.8, 3.8, 2.95, 3.25, 3.1, 3.65, 3.1, 3.05, 3.75, 3.8, 3.9, 3.1, 3.85, 3.55, 3.2, 4.35, 3.5, 3.3, 3.6, 3.85, 3.25, 4.15, 3.25, 3.8, 3.1, 4.0, 3.4, 3.25, 3.05, 4.15, 3.4, 2.85, 2.85, 2.85, 3.65, 3.55, 3.6, 3.75, 3.35, 3.45, 3.55, 3.1, 3.1, 3.45, 3.75, 3.25, 3.85, 3.2, 3.4, 3.35, 3.1, 4.15, 3.3, 4.3, 3.75, 3.45, 3.65, 4.1, 3.1, 3.45, 3.65, 3.25, 3.6, 3.6, 3.45, 3.6, 4.0, 3.25, 3.65, 3.9, 3.4, 3.4, 3.6, 3.0, 2.95, 3.9, 3.2, 3.75, 3.2, 4.15, 3.4, 4.05, 4.05, 2.95, 3.0, 3.9, 3.45, 4.15, 4.0, 3.0, 3.3, 3.15, 3.65, 2.8, 3.05, 3.1, 3.45, 4.05, 3.65, 4.55, 3.05, 3.85, 3.95, 3.3, 3.2, 3.1, 3.55, 3.9, 2.6, 3.05, 3.5, 2.85, 3.7, 3.8, 2.85, 3.6, 2.9, 3.35, 3.5, 3.9, 3.8, 3.5, 3.75, 3.75, 3.95, 3.55, 3.55, 2.85, 3.1, 3.2, 3.65, 3.75, 2.95, 3.9, 3.6, 3.45, 3.5, 2.9, 3.35, 3.5, 3.05, 2.95, 2.95, 3.25, 2.95, 4.4, 3.25, 3.0, 2.7, 3.7, 3.5, 3.95, 3.6, 3.0, 2.95, 2.95, 3.2, 4.05, 3.7, 3.85, 3.15, 2.95, 3.7, 3.25, 3.3, 3.9, 4.15, 3.95, 2.85, 2.95, 3.95, 4.15, 3.6, 3.15, 3.2, 3.2, 3.1, 3.2, 3.45, 3.85, 3.5, 3.65, 3.55, 3.25, 3.15, 3.6, 3.4, 3.5, 3.5, 3.4, 3.25, 3.6, 4.1, 3.5, 3.35, 2.95, 3.7, 3.6, 4.0, 3.45, 2.5, 3.45, 4.15, 3.2, 3.7, 3.5, 3.95, 4.1, 4.25, 4.1, 2.95, 3.75, 2.95, 3.55, 3.6, 3.3, 3.9, 3.3, 3.25, 3.5, 3.6, 4.05, 3.7, 3.7, 3.65, 3.5, 4.35, 3.4, 4.1, 3.9, 3.3, 3.7, 2.85, 3.5, 3.5, 3.4, 3.6, 2.75, 3.5, 3.45, 3.3, 3.7, 3.2, 4.2, 3.15, 3.8, 3.75, 3.8, 2.8, 3.3, 3.35, 3.35, 3.75, 3.1, 3.9, 3.1, 3.2, 3.1, 3.4, 3.5, 3.35, 3.0, 3.4, 3.3, 3.3, 4.05, 3.9, 3.3, 3.4, 3.55, 3.05, 3.45, 3.3, 3.85, 2.9, 3.3, 3.55, 3.3, 3.75, 3.4, 3.15, 3.65, 3.5, 3.7, 3.2, 3.9, 3.9, 3.35, 3.25, 3.65, 3.95, 3.4, 3.45, 3.15, 3.1, 3.45, 3.55, 3.6, 3.4, 2.7, 3.6, 3.15, 3.45, 3.25, 4.0, 3.7, 3.3, 2.65, 3.35, 3.4, 3.3, 3.45, 3.85, 3.6, 3.8, 4.0, 3.7, 3.3, 3.3, 3.15, 3.55, 3.55, 3.25, 3.45, 3.9, 3.2, 3.9, 4.6, 3.3, 3.95, 3.95, 3.95, 3.05, 2.95, 3.2, 3.65, 3.4, 3.5, 3.35, 3.15, 3.2, 3.5, 3.45, 3.9, 3.9, 3.2, 3.25, 3.2, 4.3, 3.6, 3.05, 3.2, 3.4, 3.3, 3.15, 3.55, 3.6, 3.35, 3.5, 3.25, 3.45, 3.6, 3.65, 3.35, 3.15, 3.65, 3.7, 2.95, 3.7, 3.55, 3.75, 3.1, 3.8, 3.85, 3.55, 3.25, 3.55, 3.4, 3.7, 3.75, 4.15, 3.4, 4.2, 2.7, 2.8, 2.65, 3.5, 3.5, 3.05, 3.1, 3.6, 4.05, 3.6, 2.8, 3.85, 3.8, 3.7, 3.55, 3.1, 3.05, 3.15, 3.65, 3.45, 2.75, 3.3, 3.1, 3.0, 3.35, 3.7, 4.1, 3.35, 3.5, 3.5, 3.5, 3.3, 3.85, 3.6, 3.3, 2.85, 2.75, 3.5, 3.8, 4.15, 3.15, 3.5, 3.3, 3.8, 3.55, 2.5, 3.4, 3.4, 3.7, 3.5, 3.1, 3.75, 3.5, 3.05, 3.2, 3.2, 4.0, 3.6, 3.85, 4.15, 3.45, 3.75, 2.6, 3.65, 3.8, 3.55, 3.1, 3.45, 3.05, 3.2, 3.4, 2.9, 3.1, 3.7, 4.1, 3.75, 3.25, 3.4, 3.7, 3.45, 3.4, 4.3, 3.55, 4.15, 3.2, 3.5, 3.75, 3.3, 3.75, 3.8, 3.7, 3.75, 3.35, 3.55, 2.5, 3.5, 3.35, 4.15, 3.4, 3.4, 2.95, 3.15, 3.7, 3.05, 3.85, 3.9, 2.6, 3.1, 4.0, 4.0, 3.15, 3.85, 3.7, 4.2, 3.3, 3.25, 2.2, 3.25, 3.15, 3.65, 3.3, 2.85, 3.4, 4.0, 3.45, 3.75, 4.3, 3.6, 3.65, 3.7, 3.3, 3.65, 3.45, 3.7, 3.5, 3.5, 3.55, 3.85, 3.3, 3.85, 3.6, 3.7, 3.25, 3.5, 3.15, 3.75, 4.1, 3.25, 3.05, 3.15, 3.85, 2.7, 3.4, 3.2, 3.9, 3.3, 4.1, 3.0, 3.1, 2.95, 3.65, 2.75, 3.35, 3.85, 4.1, 3.35, 3.2, 3.65, 4.7, 3.05, 3.65, 3.8]\n"
     ]
    },
    {
     "data": {
      "image/png": "[encoded data removed]",
      "text/plain": [
       "<Figure size 640x480 with 1 Axes>"
      ]
     },
     "metadata": {},
     "output_type": "display_data"
    }
   ],
   "source": [
    "# print and histograms the trials\n",
    "print(ndicetrials)\n",
    "plt.hist(ndicetrials, bins=20, range=(1,6))\n",
    "plt.show()"
   ]
  },
  {
   "cell_type": "markdown",
   "metadata": {},
   "source": [
    "**Print the average, the standard deviation, sum and the brute force standard deviation formula**"
   ]
  },
  {
   "cell_type": "code",
   "execution_count": 14,
   "metadata": {},
   "outputs": [
    {
     "name": "stdout",
     "output_type": "stream",
     "text": [
      "sum = 3504.8\n",
      "mean = 3.505\n",
      "std dev (built-in function) = 0.396\n",
      "std dev (calculate from deviations) = 0.396\n"
     ]
    }
   ],
   "source": [
    "print(f'sum = {np.sum(ndicetrials):.1f}') # sum\n",
    "histave = np.sum(ndicetrials)/ntrials # average\n",
    "print(f'mean = {histave:.3f}')\n",
    "print(f'std dev (built-in function) = {np.std(ndicetrials):.3f}') # standard deviation\n",
    "print(f'std dev (calculate from deviations) = {np.sqrt(np.sum((ndicetrials-histave)**2)/(ntrials-1)):.3f}') # brute force standard deviation calculation"
   ]
  },
  {
   "cell_type": "code",
   "execution_count": 15,
   "metadata": {},
   "outputs": [
    {
     "name": "stdout",
     "output_type": "stream",
     "text": [
      "expected std dev = 0.382\n"
     ]
    }
   ],
   "source": [
    "print(f'expected std dev = {np.sqrt(35/12/ndice):.3f}')"
   ]
  },
  {
   "cell_type": "markdown",
   "metadata": {},
   "source": [
    "The essence of the Central Limit Theorem is that when we consider a measurement which combines several samples of a *probability distribution* of arbitrary shape, the result is a **Normal** or a **Gaussian** distribution, which has 2 parameters: the mean $\\bar{x}$ and the variance $\\sigma^2$. \n",
    "\n",
    "$$G(x;\\bar{x},\\sigma) = \\frac{1}{\\sigma\\sqrt{2\\pi}}\\exp\\left[-\\frac{(x-\\bar{x})^2}{2\\sigma^2}\\right]$$"
   ]
  },
  {
   "cell_type": "markdown",
   "metadata": {},
   "source": [
    "The multiple dice throw follows the normal distribution with the same mean as the single dice throw and the variance is the single dice throw variance ($35/12$) divided by the number of dice:"
   ]
  },
  {
   "cell_type": "code",
   "execution_count": 16,
   "metadata": {},
   "outputs": [],
   "source": [
    "#xdice = list(range(1,6,ntrials//2))\n",
    "#xdice = np.linspace(1, 6, num=21)\n",
    "xdice = np.arange(1.125, 5.875, step=0.25)\n",
    "#print(xdice)\n",
    "ydice = ntrials*0.25*st.norm.pdf(xdice,3.5,1.707825/np.sqrt(ndice))"
   ]
  },
  {
   "cell_type": "code",
   "execution_count": 17,
   "metadata": {},
   "outputs": [
    {
     "data": {
      "text/plain": [
       "[<matplotlib.lines.Line2D at 0x7f53f8470cd0>]"
      ]
     },
     "execution_count": 17,
     "metadata": {},
     "output_type": "execute_result"
    },
    {
     "data": {
      "image/png": "[encoded data removed]",
      "text/plain": [
       "<Figure size 640x480 with 1 Axes>"
      ]
     },
     "metadata": {},
     "output_type": "display_data"
    }
   ],
   "source": [
    "fig, ax = plt.subplots()\n",
    "ax.hist(ndicetrials,bins=20,range=(1,6))\n",
    "ax.plot(xdice,ydice)"
   ]
  },
  {
   "cell_type": "markdown",
   "metadata": {},
   "source": [
    "### The Poisson Distribution\n",
    "\n",
    "The Poisson probability function is: \n",
    "$$f\\left( k\\right) =e^{-\\mu }\\dfrac {\\mu ^{k}}{k!}$$\n",
    "The mean and variance are both $\\mu$"
   ]
  },
  {
   "cell_type": "code",
   "execution_count": 1,
   "metadata": {},
   "outputs": [],
   "source": [
    "mean = 4"
   ]
  },
  {
   "cell_type": "markdown",
   "metadata": {},
   "source": [
    "set a sensible range for plotting the distribution: $\\pm 4\\sigma$: $\\sigma = \\sqrt{\\text{mean}}$"
   ]
  },
  {
   "cell_type": "code",
   "execution_count": 2,
   "metadata": {},
   "outputs": [
    {
     "ename": "NameError",
     "evalue": "name 'math' is not defined",
     "output_type": "error",
     "traceback": [
      "\u001b[0;31m---------------------------------------------------------------------------\u001b[0m",
      "\u001b[0;31mNameError\u001b[0m                                 Traceback (most recent call last)",
      "Cell \u001b[0;32mIn[2], line 1\u001b[0m\n\u001b[0;32m----> 1\u001b[0m upperlim \u001b[38;5;241m=\u001b[39m mean\u001b[38;5;241m+\u001b[39m\u001b[38;5;241m4\u001b[39m\u001b[38;5;241m*\u001b[39m\u001b[43mmath\u001b[49m\u001b[38;5;241m.\u001b[39msqrt(mean)\n\u001b[1;32m      2\u001b[0m lowerlim \u001b[38;5;241m=\u001b[39m mean \u001b[38;5;241m-\u001b[39m \u001b[38;5;241m4\u001b[39m\u001b[38;5;241m*\u001b[39mmath\u001b[38;5;241m.\u001b[39msqrt(mean)\n\u001b[1;32m      3\u001b[0m iupperlim \u001b[38;5;241m=\u001b[39m math\u001b[38;5;241m.\u001b[39mtrunc(upperlim)\n",
      "\u001b[0;31mNameError\u001b[0m: name 'math' is not defined"
     ]
    }
   ],
   "source": [
    "upperlim = mean+4*math.sqrt(mean)\n",
    "lowerlim = mean - 4*math.sqrt(mean)\n",
    "iupperlim = math.trunc(upperlim)\n",
    "ilowerlim = math.trunc(lowerlim)\n",
    "if ilowerlim < 0:\n",
    "    ilowerlim = 0\n",
    "poissonprob = []\n",
    "print(ilowerlim,iupperlim)"
   ]
  },
  {
   "cell_type": "markdown",
   "metadata": {},
   "source": [
    "Generate the Poisson distribution function for that range"
   ]
  },
  {
   "cell_type": "code",
   "execution_count": 41,
   "metadata": {},
   "outputs": [
    {
     "name": "stdout",
     "output_type": "stream",
     "text": [
      "[0, 1, 2, 3, 4, 5, 6, 7, 8]\n",
      "[0.01831563888873418, 0.07326255555493671, 0.14652511110987343, 0.19536681481316456, 0.19536681481316456, 0.15629345185053165, 0.1041956345670211, 0.059540362609726345, 0.029770181304863173]\n",
      "Probability of being  0 : 1.8315638888734178\n",
      "Probability of being  1 : 7.326255555493671\n",
      "Probability of being  2 : 14.652511110987342\n",
      "Probability of being  3 : 19.536681481316457\n",
      "Probability of being  4 : 19.536681481316457\n",
      "Probability of being  5 : 15.629345185053165\n",
      "Probability of being  6 : 10.419563456702111\n",
      "Probability of being  7 : 5.954036260972635\n",
      "Probability of being  8 : 2.9770181304863175\n"
     ]
    }
   ],
   "source": [
    "for i in range(ilowerlim,iupperlim+1):\n",
    "    poissonprob.append(math.exp(-1*mean)*mean**i/math.factorial(i))\n",
    "xrange = list(range(ilowerlim,iupperlim+1))\n",
    "#xrange = list(range(0,9))\n",
    "print(xrange)\n",
    "print(poissonprob)\n",
    "for i in xrange:\n",
    "    print('Probability of being ',i,':',poissonprob[i]*100)"
   ]
  },
  {
   "cell_type": "code",
   "execution_count": 42,
   "metadata": {},
   "outputs": [
    {
     "data": {
      "text/plain": [
       "<BarContainer object of 9 artists>"
      ]
     },
     "execution_count": 42,
     "metadata": {},
     "output_type": "execute_result"
    },
    {
     "data": {
      "image/png": "[encoded data removed]",
      "text/plain": [
       "<Figure size 640x480 with 1 Axes>"
      ]
     },
     "metadata": {},
     "output_type": "display_data"
    }
   ],
   "source": [
    "plt.xticks()\n",
    "plt.bar(xrange, poissonprob)"
   ]
  },
  {
   "cell_type": "markdown",
   "metadata": {},
   "source": [
    "We could have got the result above by simply using the Poisson function in Python $\\tt{scipy.stats}$"
   ]
  },
  {
   "cell_type": "code",
   "execution_count": 31,
   "metadata": {},
   "outputs": [
    {
     "data": {
      "text/plain": [
       "<BarContainer object of 9 artists>"
      ]
     },
     "execution_count": 31,
     "metadata": {},
     "output_type": "execute_result"
    },
    {
     "data": {
      "image/png": "[encoded data removed]",
      "text/plain": [
       "<Figure size 640x480 with 1 Axes>"
      ]
     },
     "metadata": {},
     "output_type": "display_data"
    }
   ],
   "source": [
    "plt.bar(xrange, st.poisson.pmf(xrange, mean))"
   ]
  },
  {
   "cell_type": "markdown",
   "metadata": {},
   "source": [
    "As the value of the mean gets larger than about 20, the probability distribution becomes virtually indistinguishable from a normal distribution with a standard deviation of $\\sigma = \\sqrt{\\text{mean}}$"
   ]
  },
  {
   "cell_type": "code",
   "execution_count": 32,
   "metadata": {},
   "outputs": [
    {
     "data": {
      "text/plain": [
       "<matplotlib.legend.Legend at 0x7f53f754abc0>"
      ]
     },
     "execution_count": 32,
     "metadata": {},
     "output_type": "execute_result"
    },
    {
     "data": {
      "image/png": "[encoded data removed]",
      "text/plain": [
       "<Figure size 640x480 with 1 Axes>"
      ]
     },
     "metadata": {},
     "output_type": "display_data"
    }
   ],
   "source": [
    "fig, ax = plt.subplots()\n",
    "ax.plot(xrange, st.poisson.pmf(xrange, mean), label='Poisson')\n",
    "ax.plot(xrange, st.norm.pdf(xrange,mean,math.sqrt(mean)), label='Gaussian')\n",
    "ax.legend()"
   ]
  },
  {
   "cell_type": "markdown",
   "metadata": {},
   "source": [
    "### The Gaussian distribution\n",
    "\n",
    "Let us recap using a typical measurement that is supposed to follow a Gaussian parent distribution with a true value $\\bar{x}=10$ (arbitrary units). If you measure this quantity, you will not find exactly 10. However, you will find a value close to 10. How close depends on the resolution of your experimental device, which ultimately determines the uncertainty associated to the measurement. Let's consider that this measurement has an uncertainty of $\\sigma=2$. We will model the results of measurements as a Gaussian distribution."
   ]
  },
  {
   "cell_type": "code",
   "execution_count": 46,
   "metadata": {
    "scrolled": true
   },
   "outputs": [
    {
     "data": {
      "image/png": "[encoded data removed]",
      "text/plain": [
       "<Figure size 432x288 with 1 Axes>"
      ]
     },
     "metadata": {
      "needs_background": "light"
     },
     "output_type": "display_data"
    }
   ],
   "source": [
    "x = np.linspace(0, 20, 1000)\n",
    "y = st.norm.pdf(x, 10, 2)\n",
    "plt.plot(x, y)\n",
    "plt.show()"
   ]
  },
  {
   "cell_type": "markdown",
   "metadata": {},
   "source": [
    "The intuitive meaning of the mean is quite obvious. For the standard deviation, one way of think about it, is the range $[\\bar{x}-\\sigma,\\bar{x}+\\sigma$] such that the area under the peak of the Gaussian is approximately 68%."
   ]
  },
  {
   "cell_type": "code",
   "execution_count": 47,
   "metadata": {},
   "outputs": [
    {
     "data": {
      "text/plain": [
       "<matplotlib.collections.PolyCollection at 0x7f97d8864100>"
      ]
     },
     "execution_count": 47,
     "metadata": {},
     "output_type": "execute_result"
    },
    {
     "data": {
      "image/png": "[encoded data removed]",
      "text/plain": [
       "<Figure size 432x288 with 1 Axes>"
      ]
     },
     "metadata": {
      "needs_background": "light"
     },
     "output_type": "display_data"
    }
   ],
   "source": [
    "x_1 = np.arange(8, 12, 0.001)\n",
    "y_1 = st.norm.pdf(x_1, 10, 2)\n",
    "fig, ax = plt.subplots()\n",
    "ax.plot(x, y)\n",
    "ax.plot(x_1, y_1, color='b')\n",
    "ax.fill_between(x_1, y_1, 0, alpha=0.3, color='b')"
   ]
  },
  {
   "cell_type": "markdown",
   "metadata": {},
   "source": [
    "To mimic a limited number of measurements, it essentially means drawing random numbers following this probability distribution."
   ]
  },
  {
   "cell_type": "code",
   "execution_count": 48,
   "metadata": {},
   "outputs": [],
   "source": [
    "df = pd.DataFrame(10+2*np.random.randn(5,1), columns=['exp1'])"
   ]
  },
  {
   "cell_type": "code",
   "execution_count": 49,
   "metadata": {},
   "outputs": [
    {
     "data": {
      "text/html": [
       "<div>\n",
       "<style scoped>\n",
       "    .dataframe tbody tr th:only-of-type {\n",
       "        vertical-align: middle;\n",
       "    }\n",
       "\n",
       "    .dataframe tbody tr th {\n",
       "        vertical-align: top;\n",
       "    }\n",
       "\n",
       "    .dataframe thead th {\n",
       "        text-align: right;\n",
       "    }\n",
       "</style>\n",
       "<table border=\"1\" class=\"dataframe\">\n",
       "  <thead>\n",
       "    <tr style=\"text-align: right;\">\n",
       "      <th></th>\n",
       "      <th>exp1</th>\n",
       "    </tr>\n",
       "  </thead>\n",
       "  <tbody>\n",
       "    <tr>\n",
       "      <th>0</th>\n",
       "      <td>9.235455</td>\n",
       "    </tr>\n",
       "    <tr>\n",
       "      <th>1</th>\n",
       "      <td>10.880575</td>\n",
       "    </tr>\n",
       "    <tr>\n",
       "      <th>2</th>\n",
       "      <td>11.051192</td>\n",
       "    </tr>\n",
       "    <tr>\n",
       "      <th>3</th>\n",
       "      <td>8.696356</td>\n",
       "    </tr>\n",
       "    <tr>\n",
       "      <th>4</th>\n",
       "      <td>10.032386</td>\n",
       "    </tr>\n",
       "  </tbody>\n",
       "</table>\n",
       "</div>"
      ],
      "text/plain": [
       "        exp1\n",
       "0   9.235455\n",
       "1  10.880575\n",
       "2  11.051192\n",
       "3   8.696356\n",
       "4  10.032386"
      ]
     },
     "execution_count": 49,
     "metadata": {},
     "output_type": "execute_result"
    }
   ],
   "source": [
    "df"
   ]
  },
  {
   "cell_type": "markdown",
   "metadata": {},
   "source": [
    "As emphasized already, an important visualization tool for results is a histogram (see chapter 5). This is a bar graph on which the vertical axis depicts the frequency of a value on the horizontal axis."
   ]
  },
  {
   "cell_type": "code",
   "execution_count": 50,
   "metadata": {},
   "outputs": [
    {
     "data": {
      "text/plain": [
       "<AxesSubplot:ylabel='Frequency'>"
      ]
     },
     "execution_count": 50,
     "metadata": {},
     "output_type": "execute_result"
    },
    {
     "data": {
      "image/png": "[encoded data removed]",
      "text/plain": [
       "<Figure size 432x288 with 1 Axes>"
      ]
     },
     "metadata": {
      "needs_background": "light"
     },
     "output_type": "display_data"
    }
   ],
   "source": [
    "df.plot.hist(bins=5)"
   ]
  },
  {
   "cell_type": "markdown",
   "metadata": {},
   "source": [
    "This hardly reminds one of a Gaussian. However, if we repeat the experiment with a larger number of measurements... say 100 single-value measurements:"
   ]
  },
  {
   "cell_type": "code",
   "execution_count": 51,
   "metadata": {},
   "outputs": [],
   "source": [
    "df = pd.concat([pd.DataFrame(10+2*np.random.randn(100,1),columns=['exp1'])])\n",
    "df = df.reset_index(drop=True)"
   ]
  },
  {
   "cell_type": "code",
   "execution_count": 52,
   "metadata": {},
   "outputs": [
    {
     "data": {
      "text/html": [
       "<div>\n",
       "<style scoped>\n",
       "    .dataframe tbody tr th:only-of-type {\n",
       "        vertical-align: middle;\n",
       "    }\n",
       "\n",
       "    .dataframe tbody tr th {\n",
       "        vertical-align: top;\n",
       "    }\n",
       "\n",
       "    .dataframe thead th {\n",
       "        text-align: right;\n",
       "    }\n",
       "</style>\n",
       "<table border=\"1\" class=\"dataframe\">\n",
       "  <thead>\n",
       "    <tr style=\"text-align: right;\">\n",
       "      <th></th>\n",
       "      <th>exp1</th>\n",
       "    </tr>\n",
       "  </thead>\n",
       "  <tbody>\n",
       "    <tr>\n",
       "      <th>0</th>\n",
       "      <td>8.168235</td>\n",
       "    </tr>\n",
       "    <tr>\n",
       "      <th>1</th>\n",
       "      <td>11.639862</td>\n",
       "    </tr>\n",
       "    <tr>\n",
       "      <th>2</th>\n",
       "      <td>11.992157</td>\n",
       "    </tr>\n",
       "    <tr>\n",
       "      <th>3</th>\n",
       "      <td>4.494521</td>\n",
       "    </tr>\n",
       "    <tr>\n",
       "      <th>4</th>\n",
       "      <td>10.391668</td>\n",
       "    </tr>\n",
       "    <tr>\n",
       "      <th>...</th>\n",
       "      <td>...</td>\n",
       "    </tr>\n",
       "    <tr>\n",
       "      <th>95</th>\n",
       "      <td>9.368729</td>\n",
       "    </tr>\n",
       "    <tr>\n",
       "      <th>96</th>\n",
       "      <td>11.358761</td>\n",
       "    </tr>\n",
       "    <tr>\n",
       "      <th>97</th>\n",
       "      <td>9.858005</td>\n",
       "    </tr>\n",
       "    <tr>\n",
       "      <th>98</th>\n",
       "      <td>8.093346</td>\n",
       "    </tr>\n",
       "    <tr>\n",
       "      <th>99</th>\n",
       "      <td>6.715098</td>\n",
       "    </tr>\n",
       "  </tbody>\n",
       "</table>\n",
       "<p>100 rows × 1 columns</p>\n",
       "</div>"
      ],
      "text/plain": [
       "         exp1\n",
       "0    8.168235\n",
       "1   11.639862\n",
       "2   11.992157\n",
       "3    4.494521\n",
       "4   10.391668\n",
       "..        ...\n",
       "95   9.368729\n",
       "96  11.358761\n",
       "97   9.858005\n",
       "98   8.093346\n",
       "99   6.715098\n",
       "\n",
       "[100 rows x 1 columns]"
      ]
     },
     "execution_count": 52,
     "metadata": {},
     "output_type": "execute_result"
    }
   ],
   "source": [
    "df"
   ]
  },
  {
   "cell_type": "code",
   "execution_count": 53,
   "metadata": {},
   "outputs": [
    {
     "name": "stdout",
     "output_type": "stream",
     "text": [
      "mean = 9.978, std dev = 2.065\n"
     ]
    },
    {
     "data": {
      "image/png": "[encoded data removed]",
      "text/plain": [
       "<Figure size 432x288 with 1 Axes>"
      ]
     },
     "metadata": {
      "needs_background": "light"
     },
     "output_type": "display_data"
    }
   ],
   "source": [
    "df.plot.hist(bins=16, range=(2,18))\n",
    "print(f'mean = {df[\"exp1\"].mean():.3f}, std dev = {df[\"exp1\"].std():.3f}')"
   ]
  },
  {
   "cell_type": "markdown",
   "metadata": {},
   "source": [
    "It looks plausible; the values are obviously distributed around the value 10. In order to see the true Gaussian shape, we really have to repeat the measurement many times. Let's repeat the experiment with 1000 single-value measurements!"
   ]
  },
  {
   "cell_type": "code",
   "execution_count": 54,
   "metadata": {},
   "outputs": [],
   "source": [
    "df = pd.DataFrame(10+2*np.random.randn(10000,1), columns=['exp1'])"
   ]
  },
  {
   "cell_type": "code",
   "execution_count": 55,
   "metadata": {},
   "outputs": [
    {
     "name": "stdout",
     "output_type": "stream",
     "text": [
      "mean = 9.983, std dev = 2.007\n"
     ]
    },
    {
     "data": {
      "image/png": "[encoded data removed]",
      "text/plain": [
       "<Figure size 432x288 with 1 Axes>"
      ]
     },
     "metadata": {
      "needs_background": "light"
     },
     "output_type": "display_data"
    }
   ],
   "source": [
    "df.plot.hist(bins=16, range=(2,18))\n",
    "print(f'mean = {df[\"exp1\"].mean():.3f}, std dev = {df[\"exp1\"].std():.3f}')"
   ]
  },
  {
   "cell_type": "markdown",
   "metadata": {},
   "source": [
    "Now the nature of the true value ($\\bar{x}=10$) and its uncertainty ($\\sigma=2$) are clear. Note that the uncertainty (standard deviation here) does not change with the number of measurements. The uncertainty depends on the precision of the measurement process.\n",
    "\n"
   ]
  },
  {
   "cell_type": "markdown",
   "metadata": {},
   "source": [
    "Let's do now 10,000 experiments with each measurement corresponding to the average of $N=100$ values. The standard deviation is expected to decrease by a factor of $\\sqrt{100}$. i.e. 10."
   ]
  },
  {
   "cell_type": "code",
   "execution_count": 56,
   "metadata": {},
   "outputs": [
    {
     "name": "stdout",
     "output_type": "stream",
     "text": [
      "mean = 10.000, std dev = 0.201\n"
     ]
    },
    {
     "data": {
      "image/png": "[encoded data removed]",
      "text/plain": [
       "<Figure size 432x288 with 1 Axes>"
      ]
     },
     "metadata": {
      "needs_background": "light"
     },
     "output_type": "display_data"
    }
   ],
   "source": [
    "df = pd.DataFrame(10+2*np.random.randn(100,10000), columns=['exp%d'%i for i in range(10000)])\n",
    "dmean = pd.DataFrame(df.mean(), columns=['mean'])\n",
    "dmean.plot.hist(bins=16, range=(9.2,10.8))\n",
    "print(f'mean = {dmean[\"mean\"].mean():.3f}, std dev = {dmean[\"mean\"].std():.3f}')"
   ]
  },
  {
   "cell_type": "markdown",
   "metadata": {},
   "source": [
    "### Error propagation\n",
    "\n",
    "#### Addition or subtraction of independent variables\n",
    "\n",
    "Before we close, let's study the topic of propagation of uncertainties. That's when the quantity of interest $C$ is obtained as a function of two other random variables, $A$ and $B$, that we do measure, i.e. $C = f(A,B)$. We will limit ourselves here to Gaussian parent distributions for $A$ and $B$.\n",
    "\n",
    "Here, we generate two samples each with 5000 single-value measurements drawn from the same Gaussian distribution with mean $\\bar{x}=10$ and width $\\sigma=2$."
   ]
  },
  {
   "cell_type": "code",
   "execution_count": 57,
   "metadata": {},
   "outputs": [],
   "source": [
    "df = pd.DataFrame(10+2*np.random.randn(1,10000), columns=(['expA_%d'%i for i in range(5000)]+['expB_%d'%i for i in range(5000)]))"
   ]
  },
  {
   "cell_type": "code",
   "execution_count": 58,
   "metadata": {},
   "outputs": [
    {
     "name": "stdout",
     "output_type": "stream",
     "text": [
      "A: mean = 10.037, std dev = 1.968\n",
      "B: mean = 9.980, std dev = 1.998\n",
      "C: mean = 20.017, std dev = 2.827\n"
     ]
    },
    {
     "data": {
      "image/png": "[encoded data removed]",
      "text/plain": [
       "<Figure size 432x288 with 1 Axes>"
      ]
     },
     "metadata": {
      "needs_background": "light"
     },
     "output_type": "display_data"
    }
   ],
   "source": [
    "expA = np.array([])\n",
    "expB = np.array([])\n",
    "expC = np.array([])\n",
    "for i in range(5000):\n",
    "    expA = np.append(expA, df['expA_%d'%i])\n",
    "    expB = np.append(expB, df['expB_%d'%i])\n",
    "    expC = np.append(expC, df['expA_%d'%i] + df['expB_%d'%i])\n",
    "print(f'A: mean = {expA.mean():.3f}, std dev = {expA.std():.3f}')\n",
    "print(f'B: mean = {expB.mean():.3f}, std dev = {expB.std():.3f}')\n",
    "print(f'C: mean = {expC.mean():.3f}, std dev = {expC.std():.3f}')\n",
    "plt.hist(expA, bins=30, range=(0,30), alpha=0.5, label='A')\n",
    "plt.hist(expB, bins=30, range=(0,30), alpha=0.5, label='B')\n",
    "plt.hist(expC, bins=30, range=(0,30), alpha=0.5, label='C')\n",
    "plt.legend()\n",
    "plt.show()"
   ]
  },
  {
   "cell_type": "markdown",
   "metadata": {},
   "source": [
    "First, let's consider that C corresponds to the sum of variables A and B, i.e. $C = A + B$. The relationship between the variances for the three variables is\n",
    "\n",
    "$$\\sigma_C^2 = \\sigma_A^2 + \\sigma_B^2$$\n",
    "\n",
    "so $\\sigma_C^2 = 4 + 4 = 8 \\Rightarrow \\sigma_C = 2.828$. We can estimate the derived standard deviation from the estimate of the $\\sigma_A$ and $\\sigma_B$.\n",
    "\n",
    "NOTE: The propagation of errors in the case of a subtraction $C = A - B$ follows the same calculation."
   ]
  },
  {
   "cell_type": "code",
   "execution_count": 59,
   "metadata": {},
   "outputs": [
    {
     "name": "stdout",
     "output_type": "stream",
     "text": [
      "Propagated uncertainty = 2.804\n"
     ]
    }
   ],
   "source": [
    "print( f'Propagated uncertainty = {np.sqrt( expA.std()*expA.std() + expB.std()*expB.std() ):.3f}' )"
   ]
  },
  {
   "cell_type": "markdown",
   "metadata": {},
   "source": [
    "#### Multiplication or division of independent variables\n",
    "\n",
    "Second, let's consider the ratio, i.e. $C=A/B$."
   ]
  },
  {
   "cell_type": "code",
   "execution_count": 60,
   "metadata": {},
   "outputs": [
    {
     "name": "stdout",
     "output_type": "stream",
     "text": [
      "A: mean = 9.969, std dev = 1.994\n",
      "B: mean = 10.021, std dev = 2.014\n",
      "C: mean = 1.043, std dev = 0.344\n"
     ]
    },
    {
     "data": {
      "image/png": "[encoded data removed]",
      "text/plain": [
       "<Figure size 432x288 with 1 Axes>"
      ]
     },
     "metadata": {
      "needs_background": "light"
     },
     "output_type": "display_data"
    }
   ],
   "source": [
    "df = pd.DataFrame(10+2*np.random.randn(1,10000), columns=(['expA_%d'%i for i in range(5000)]+['expB_%d'%i for i in range(5000)]))\n",
    "expA = np.array([])\n",
    "expB = np.array([])\n",
    "expC = np.array([])\n",
    "for i in range(5000):\n",
    "    expA = np.append(expA, df['expA_%d'%i])\n",
    "    expB = np.append(expB, df['expB_%d'%i])\n",
    "    expC = np.append(expC, df['expA_%d'%i] / df['expB_%d'%i])\n",
    "print(f'A: mean = {expA.mean():.3f}, std dev = {expA.std():.3f}')\n",
    "print(f'B: mean = {expB.mean():.3f}, std dev = {expB.std():.3f}')\n",
    "print(f'C: mean = {expC.mean():.3f}, std dev = {expC.std():.3f}')\n",
    "plt.hist(expA, bins=64, range=(0,16), alpha=0.5, label='A')\n",
    "plt.hist(expB, bins=64, range=(0,16), alpha=0.5, label='B')\n",
    "plt.hist(expC, bins=64, range=(0,16), alpha=0.5, label='C')\n",
    "plt.legend()\n",
    "plt.show()\n"
   ]
  },
  {
   "cell_type": "markdown",
   "metadata": {},
   "source": [
    "The formula in this case is more complicated, it is a function also of the mean values:\n",
    "\n",
    "$$\\sigma_C^2 = \\bar{C}^2\\left[\\frac{\\sigma_A^2}{\\bar{A}^2} + \\frac{\\sigma_B^2}{\\bar{B}^2}\\right]$$\n",
    "\n",
    "and in the case of division\n",
    "\n",
    "$$\\bar{C} = \\frac{\\bar{A}}{\\bar{B}}$$\n",
    "\n",
    "or in the case of multiplication\n",
    "\n",
    "$$\\bar{C} = \\bar{A}\\bar{B}$$\n",
    "\n",
    "Therefore, in our case considering the ratio between $A$ and $B$, we have\n",
    "\n",
    "$$\\sigma_C^2 = \\frac{10^2}{10^2}\\left[\\frac{2^2}{10^2} + \\frac{2^2}{10^2}\\right] = 0.08 \\Rightarrow \\sigma_C = 0.283$$\n",
    "\n",
    "Like before, experimentally, the best we can do is to use the estimators we saw before.\n"
   ]
  },
  {
   "cell_type": "code",
   "execution_count": 62,
   "metadata": {},
   "outputs": [
    {
     "name": "stdout",
     "output_type": "stream",
     "text": [
      "Propagated uncertainty = 0.282\n"
     ]
    }
   ],
   "source": [
    "print( f'Propagated uncertainty = {(expA.mean()/expB.mean())*np.sqrt(expA.std()*expA.std()/(expA.mean()*expA.mean())+expB.std()*expB.std()/(expB.mean()*expB.mean())):.3f}' )"
   ]
  },
  {
   "cell_type": "markdown",
   "metadata": {},
   "source": [
    "#### Generic function of independent variables\n",
    "\n",
    "The general formulae for a generic $C = f(A,B)$ are:\n",
    "\n",
    "$$\\bar{C}=f(\\bar{A},\\bar{B})$$ \n",
    "\n",
    "and \n",
    "\n",
    "$$\\sigma_C^2 = \\left(\\frac{\\partial f}{\\partial A}\\right)^2\\sigma^2_A+\\left(\\frac{\\partial f}{\\partial B}\\right)^2\\sigma^2_B$$\n",
    "\n",
    "In an experiment, when we use the estimates for $\\bar{A}$, $\\bar{B}$, $\\sigma_A$, and $\\sigma_B$ this is called *error propagation*. You should read the generalization of these formulae for more variables in the textbook, chapter 4.\n"
   ]
  },
  {
   "cell_type": "markdown",
   "metadata": {},
   "source": []
  },
  {
   "cell_type": "code",
   "execution_count": null,
   "metadata": {},
   "outputs": [],
   "source": []
  },
  {
   "cell_type": "code",
   "execution_count": null,
   "metadata": {},
   "outputs": [],
   "source": []
  }
 ],
 "metadata": {
  "kernelspec": {
   "display_name": "Python 3 (ipykernel)",
   "language": "python",
   "name": "python3"
  },
  "language_info": {
   "codemirror_mode": {
    "name": "ipython",
    "version": 3
   },
   "file_extension": ".py",
   "mimetype": "text/x-python",
   "name": "python",
   "nbconvert_exporter": "python",
   "pygments_lexer": "ipython3",
   "version": "3.10.12"
  },
  "vscode": {
   "interpreter": {
    "hash": "65f51c71e5cc287e1507c0af508bdb91cf93faaf395223bc4fe36d2ad239bc10"
   }
  }
 },
 "nbformat": 4,
 "nbformat_minor": 4
}
